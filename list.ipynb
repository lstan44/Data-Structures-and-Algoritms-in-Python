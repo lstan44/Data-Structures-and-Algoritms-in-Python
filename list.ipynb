{
 "cells": [
  {
   "cell_type": "markdown",
   "metadata": {},
   "source": [
    "# Notes on Python List:\n",
    "\n",
    "## The List Constructor\n",
    "Python list has a constructor `list()`\n",
    "\n",
    "The list constructor can either take an interable object as parameter or none.  \n",
    "If an iterable object is passed `list([iterable])`, it returns a list of what makes up the iterable.  \n",
    "If no parameter is passed, the it returns an empty list.  \n",
    "\n",
    "An iterable object can be a __sequence__ such as a string or tuple, or it can be a __collection__ such as a dict or a set.  \n",
    "\n"
   ]
  },
  {
   "cell_type": "code",
   "execution_count": 6,
   "metadata": {},
   "outputs": [
    {
     "name": "stdout",
     "output_type": "stream",
     "text": [
      "['s', 't', 'a', 'n', 'l', 'e', 'y', ' ', 'l', 'a', 'l', 'a', 'n', 'n', 'e']\n"
     ]
    }
   ],
   "source": [
    "name = \"stanley lalanne\"\n",
    "name_list = list(name)\n",
    "print(name_list)"
   ]
  },
  {
   "cell_type": "code",
   "execution_count": 5,
   "metadata": {},
   "outputs": [
    {
     "name": "stdout",
     "output_type": "stream",
     "text": [
      "[]\n",
      "[]\n"
     ]
    }
   ],
   "source": [
    "empty_list = list()\n",
    "print(empty_list)\n",
    "\n",
    "# can also do this for an empty list\n",
    "empty_list2 = []\n",
    "print(empty_list2)"
   ]
  },
  {
   "cell_type": "markdown",
   "metadata": {},
   "source": [
    "## List Methods"
   ]
  }
 ],
 "metadata": {
  "interpreter": {
   "hash": "67485b2484da8b0613cf82a4d5699e26d7d65ee4a4cfd44dd35323b490b0d400"
  },
  "kernelspec": {
   "display_name": "Python 3.9.10 64-bit (windows store)",
   "language": "python",
   "name": "python3"
  },
  "language_info": {
   "codemirror_mode": {
    "name": "ipython",
    "version": 3
   },
   "file_extension": ".py",
   "mimetype": "text/x-python",
   "name": "python",
   "nbconvert_exporter": "python",
   "pygments_lexer": "ipython3",
   "version": "3.9.10"
  },
  "orig_nbformat": 4
 },
 "nbformat": 4,
 "nbformat_minor": 2
}
