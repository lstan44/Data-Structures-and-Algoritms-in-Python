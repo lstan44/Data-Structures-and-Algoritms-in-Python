{
 "cells": [
  {
   "cell_type": "markdown",
   "metadata": {},
   "source": [
    "# Notes on Python List:\n",
    "\n",
    "## The List Constructor\n",
    "Python list has a constructor `list()`\n",
    "\n",
    "The list constructor can either take an interable object as parameter or none.  \n",
    "If an iterable object is passed `list([iterable])`, it returns a list of what makes up the iterable.  \n",
    "If no parameter is passed, the it returns an empty list.  \n",
    "\n",
    "An iterable object can be a __sequence__ such as a string or tuple, or it can be a __collection__ such as a dict or a set.  \n",
    "\n"
   ]
  },
  {
   "cell_type": "code",
   "execution_count": 6,
   "metadata": {},
   "outputs": [
    {
     "name": "stdout",
     "output_type": "stream",
     "text": [
      "['s', 't', 'a', 'n', 'l', 'e', 'y', ' ', 'l', 'a', 'l', 'a', 'n', 'n', 'e']\n"
     ]
    }
   ],
   "source": [
    "name = \"stanley lalanne\"\n",
    "name_list = list(name)\n",
    "print(name_list)"
   ]
  },
  {
   "cell_type": "code",
   "execution_count": 5,
   "metadata": {},
   "outputs": [
    {
     "name": "stdout",
     "output_type": "stream",
     "text": [
      "[]\n",
      "[]\n"
     ]
    }
   ],
   "source": [
    "empty_list = list()\n",
    "print(empty_list)\n",
    "\n",
    "# can also do this for an empty list\n",
    "empty_list2 = []\n",
    "print(empty_list2)"
   ]
  },
  {
   "cell_type": "markdown",
   "metadata": {},
   "source": [
    "## Common List Methods"
   ]
  },
  {
   "cell_type": "markdown",
   "metadata": {},
   "source": [
    "### `list.append(item)`\n",
    "Adds an item to the end of the list"
   ]
  },
  {
   "cell_type": "code",
   "execution_count": 7,
   "metadata": {},
   "outputs": [
    {
     "name": "stdout",
     "output_type": "stream",
     "text": [
      "[1, 2, 3]\n",
      "[1, 2, 3, 4, 10]\n"
     ]
    }
   ],
   "source": [
    "number_list = [1,2,3]\n",
    "print(number_list)\n",
    "\n",
    "number_list.append(4)\n",
    "number_list.append(10)\n",
    "print(number_list)"
   ]
  },
  {
   "cell_type": "markdown",
   "metadata": {},
   "source": [
    "### `list.extend(iterable)`\n",
    "Extend the list by appending all the items from the iterable."
   ]
  },
  {
   "cell_type": "code",
   "execution_count": 8,
   "metadata": {},
   "outputs": [
    {
     "name": "stdout",
     "output_type": "stream",
     "text": [
      "[1, 2, 3, 4]\n",
      "[1, 2, 3, 4, 5, 6, 7, 8]\n"
     ]
    }
   ],
   "source": [
    "num1 = [1,2,3,4]\n",
    "num2 = [5,6,7,8]\n",
    "print(num1)\n",
    "\n",
    "num1.extend(num2)\n",
    "print(num1)\n"
   ]
  },
  {
   "cell_type": "markdown",
   "metadata": {},
   "source": [
    "### `list.insert(idx, item)`\n",
    "Insert an item into the list at index `idx` "
   ]
  },
  {
   "cell_type": "code",
   "execution_count": 17,
   "metadata": {},
   "outputs": [
    {
     "name": "stdout",
     "output_type": "stream",
     "text": [
      "[0, 1, 2, 3, 4, 5]\n",
      "using an index greater than len(num) [0, 1, 2, 3, 4, 5, 25]\n",
      "with negative indexing [0, 1, 2, 3, 4, 5, 67, 25]\n"
     ]
    }
   ],
   "source": [
    "num = [1,2,3,4,5]\n",
    "num.insert(0,0) #insert the number 0 at index 0, front of the list\n",
    "\n",
    "print(num)\n",
    "\n",
    "#what happens if you put an index that's out of bound\n",
    "\n",
    "num.insert(10,25) #apparently this didn't cause any problem. it just adds 25 to the end of the list\n",
    "print(\"using an index greater than len(num)\", num)\n",
    "\n",
    "\n",
    "num.insert(-1,67) #it also support negative indexing\n",
    "print(\"with negative indexing\", num)"
   ]
  },
  {
   "cell_type": "markdown",
   "metadata": {},
   "source": [
    "### `list.remove(i)`\n",
    "Remove the first item from the list whose value equals to i. raises a ValueError exception if no such item exists."
   ]
  },
  {
   "cell_type": "code",
   "execution_count": 22,
   "metadata": {},
   "outputs": [
    {
     "name": "stdout",
     "output_type": "stream",
     "text": [
      "[0, 0, 1, 45]\n",
      "100 is not in the list\n",
      "names are:  ['john', 'stanley', 'ernest', 'egor']\n",
      "john removed.  ['stanley', 'ernest', 'egor']\n"
     ]
    }
   ],
   "source": [
    "num = [0,0,0,1,45]\n",
    "num.remove(0)\n",
    "\n",
    "print(num) # list had 3 zeros, now it has 2. first one removed\n",
    "\n",
    "# num.remove(100) #100 is not in the list, raises ValueError\n",
    "# print(num) \n",
    "\n",
    "#use try except block\n",
    "\n",
    "try:\n",
    "    num.remove(100)\n",
    "except ValueError:\n",
    "    print(\"100 is not in the list\")\n",
    "\n",
    "\n",
    "names = [\"john\",\"stanley\",\"ernest\", \"egor\"]\n",
    "print(\"names are: \", names)\n",
    "\n",
    "names.remove(\"john\")\n",
    "print(\"john removed. \", names)"
   ]
  },
  {
   "cell_type": "markdown",
   "metadata": {},
   "source": [
    "### `list.pop(i)`\n",
    "removes and return item at index `i` in the list. if index is not specified, then `pop()` removes and returns the last item in the list."
   ]
  },
  {
   "cell_type": "code",
   "execution_count": 37,
   "metadata": {},
   "outputs": [
    {
     "name": "stdout",
     "output_type": "stream",
     "text": [
      "['john', 'egor']\n",
      "Index is out of bound\n",
      "['john']\n"
     ]
    }
   ],
   "source": [
    "names = [\"john\",\"ernest\",\"egor\"]\n",
    "names.pop(1)\n",
    "\n",
    "print(names)\n",
    "\n",
    "#if index is out of bound, ValueError exception will be raised\n",
    "\n",
    "try:\n",
    "    names.remove(10)\n",
    "except ValueError:\n",
    "    print(\"Index is out of bound\")\n",
    "\n",
    "names.pop()\n",
    "print(names)"
   ]
  }
 ],
 "metadata": {
  "interpreter": {
   "hash": "67485b2484da8b0613cf82a4d5699e26d7d65ee4a4cfd44dd35323b490b0d400"
  },
  "kernelspec": {
   "display_name": "Python 3.9.10 64-bit (windows store)",
   "language": "python",
   "name": "python3"
  },
  "language_info": {
   "codemirror_mode": {
    "name": "ipython",
    "version": 3
   },
   "file_extension": ".py",
   "mimetype": "text/x-python",
   "name": "python",
   "nbconvert_exporter": "python",
   "pygments_lexer": "ipython3",
   "version": "3.9.10"
  },
  "orig_nbformat": 4
 },
 "nbformat": 4,
 "nbformat_minor": 2
}
